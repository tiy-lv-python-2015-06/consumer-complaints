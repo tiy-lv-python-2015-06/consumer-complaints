{
 "cells": [
  {
   "cell_type": "markdown",
   "metadata": {},
   "source": [
    "###6. Any other insights you find interesting"
   ]
  },
  {
   "cell_type": "code",
   "execution_count": 109,
   "metadata": {
    "collapsed": false
   },
   "outputs": [],
   "source": [
    "import pandas as pd\n",
    "import numpy as np\n",
    "import matplotlib.pyplot as plt\n",
    "import seaborn as sns"
   ]
  },
  {
   "cell_type": "code",
   "execution_count": 110,
   "metadata": {
    "collapsed": true
   },
   "outputs": [],
   "source": [
    "%matplotlib inline"
   ]
  },
  {
   "cell_type": "code",
   "execution_count": 111,
   "metadata": {
    "collapsed": false
   },
   "outputs": [
    {
     "name": "stdout",
     "output_type": "stream",
     "text": [
      "Complaint ID,Product,Sub-product,Issue,Sub-issue,State,ZIP code,Submitted via,Date received,Date sent to company,Company,Company response,Timely response?,Consumer disputed?\r\n",
      "1431865,Consumer loan,Vehicle loan,Managing the loan or lease,,NJ,08736,Web,06/22/2015,06/22/2015,Nissan Motor Acceptance Corporation,In progress,Yes,\r\n",
      "1431374,Debt collection,Medical,Disclosure verification of debt,Not given enough info to verify debt,WI,54140,Web,06/22/2015,06/22/2015,\"RSI Enterprises, Inc.\",Closed with explanation,Yes,\r\n",
      "1431251,Mortgage,Conventional fixed mortgage,\"Loan modification,collection,foreclosure\",,MO,63368,Web,06/22/2015,06/22/2015,Flagstar Bank,In progress,Yes,\r\n",
      "1431743,Debt collection,Medical,Cont'd attempts collect debt not owed,Debt is not mine,WA,98055,Web,06/22/2015,06/22/2015,\"P.S.C., Inc\",Closed with explanation,Yes,Yes\r\n",
      "1432678,Debt collection,Medical,Cont'd attempts collect debt not owed,Debt was paid,TX,75104,Web,06/22/2015,06/22/2015,\"ProCollect, Inc\",Closed with explanation,Yes,\r\n",
      "1432104,Debt collection,\"Other (phone, health club, etc.)\",Cont'd attempts collect debt not owed,Debt was paid,CA,95423,Web,06/22/2015,06/22/2015,\"Associated Credit Services, Inc.\",In progress,Yes,\r\n",
      "1431998,Debt collection,\"Other (phone, health club, etc.)\",Communication tactics,Frequent or repeated calls,TX,75048,Web,06/22/2015,06/22/2015,\"EOS Holdings, Inc.\",Closed with explanation,Yes,\r\n",
      "1432207,Debt collection,Medical,Disclosure verification of debt,Right to dispute notice not received,TX,75125,Web,06/22/2015,06/22/2015,\"ProCollect, Inc\",Closed with explanation,Yes,\r\n",
      "1432202,Consumer loan,Vehicle loan,Problems when you are unable to pay,,TN,37174,Web,06/22/2015,06/22/2015,Navy FCU,In progress,Yes,\r\n"
     ]
    }
   ],
   "source": [
    "!head Consumer_Complaints.csv"
   ]
  },
  {
   "cell_type": "code",
   "execution_count": 112,
   "metadata": {
    "collapsed": false
   },
   "outputs": [
    {
     "name": "stderr",
     "output_type": "stream",
     "text": [
      "/Users/margaretblue/ironyard/sandbox/consumer-complaints/.direnv/python-3.4.3/lib/python3.4/site-packages/pandas/io/parsers.py:1170: DtypeWarning: Columns (4) have mixed types. Specify dtype option on import or set low_memory=False.\n",
      "  data = self._reader.read(nrows)\n"
     ]
    }
   ],
   "source": [
    "consumer_df = pd.read_csv(\"Consumer_Complaints.csv\")"
   ]
  },
  {
   "cell_type": "code",
   "execution_count": 113,
   "metadata": {
    "collapsed": true
   },
   "outputs": [],
   "source": [
    "consumer_df = pd.read_csv(\"Consumer_Complaints.csv\", header=0, dtype=str)"
   ]
  },
  {
   "cell_type": "code",
   "execution_count": 114,
   "metadata": {
    "collapsed": false
   },
   "outputs": [
    {
     "data": {
      "text/html": [
       "<div>\n",
       "<table border=\"1\" class=\"dataframe\">\n",
       "  <thead>\n",
       "    <tr style=\"text-align: right;\">\n",
       "      <th></th>\n",
       "      <th>Complaint ID</th>\n",
       "      <th>Product</th>\n",
       "      <th>Sub-product</th>\n",
       "      <th>Issue</th>\n",
       "      <th>Sub-issue</th>\n",
       "      <th>State</th>\n",
       "      <th>ZIP code</th>\n",
       "      <th>Submitted via</th>\n",
       "      <th>Date received</th>\n",
       "      <th>Date sent to company</th>\n",
       "      <th>Company</th>\n",
       "      <th>Company response</th>\n",
       "      <th>Timely response?</th>\n",
       "      <th>Consumer disputed?</th>\n",
       "    </tr>\n",
       "  </thead>\n",
       "  <tbody>\n",
       "    <tr>\n",
       "      <th>0</th>\n",
       "      <td>1431865</td>\n",
       "      <td>Consumer loan</td>\n",
       "      <td>Vehicle loan</td>\n",
       "      <td>Managing the loan or lease</td>\n",
       "      <td>NaN</td>\n",
       "      <td>NJ</td>\n",
       "      <td>08736</td>\n",
       "      <td>Web</td>\n",
       "      <td>06/22/2015</td>\n",
       "      <td>06/22/2015</td>\n",
       "      <td>Nissan Motor Acceptance Corporation</td>\n",
       "      <td>In progress</td>\n",
       "      <td>Yes</td>\n",
       "      <td>NaN</td>\n",
       "    </tr>\n",
       "  </tbody>\n",
       "</table>\n",
       "</div>"
      ],
      "text/plain": [
       "  Complaint ID        Product   Sub-product                       Issue  \\\n",
       "0      1431865  Consumer loan  Vehicle loan  Managing the loan or lease   \n",
       "\n",
       "  Sub-issue State ZIP code Submitted via Date received Date sent to company  \\\n",
       "0       NaN    NJ    08736           Web    06/22/2015           06/22/2015   \n",
       "\n",
       "                               Company Company response Timely response?  \\\n",
       "0  Nissan Motor Acceptance Corporation      In progress              Yes   \n",
       "\n",
       "  Consumer disputed?  \n",
       "0                NaN  "
      ]
     },
     "execution_count": 114,
     "metadata": {},
     "output_type": "execute_result"
    }
   ],
   "source": [
    "consumer_df.head(1)"
   ]
  },
  {
   "cell_type": "code",
   "execution_count": 115,
   "metadata": {
    "collapsed": true
   },
   "outputs": [],
   "source": [
    "consumer_df = pd.read_csv(\"Consumer_Complaints.csv\", header=0, dtype=str)"
   ]
  },
  {
   "cell_type": "code",
   "execution_count": 116,
   "metadata": {
    "collapsed": false
   },
   "outputs": [
    {
     "data": {
      "text/html": [
       "<div>\n",
       "<table border=\"1\" class=\"dataframe\">\n",
       "  <thead>\n",
       "    <tr style=\"text-align: right;\">\n",
       "      <th></th>\n",
       "      <th>Complaint ID</th>\n",
       "      <th>Product</th>\n",
       "      <th>Sub-product</th>\n",
       "      <th>Issue</th>\n",
       "      <th>Sub-issue</th>\n",
       "      <th>State</th>\n",
       "      <th>ZIP code</th>\n",
       "      <th>Submitted via</th>\n",
       "      <th>Date received</th>\n",
       "      <th>Date sent to company</th>\n",
       "      <th>Company</th>\n",
       "      <th>Company response</th>\n",
       "      <th>Timely response?</th>\n",
       "      <th>Consumer disputed?</th>\n",
       "    </tr>\n",
       "  </thead>\n",
       "  <tbody>\n",
       "    <tr>\n",
       "      <th>0</th>\n",
       "      <td>1431865</td>\n",
       "      <td>Consumer loan</td>\n",
       "      <td>Vehicle loan</td>\n",
       "      <td>Managing the loan or lease</td>\n",
       "      <td>NaN</td>\n",
       "      <td>NJ</td>\n",
       "      <td>08736</td>\n",
       "      <td>Web</td>\n",
       "      <td>06/22/2015</td>\n",
       "      <td>06/22/2015</td>\n",
       "      <td>Nissan Motor Acceptance Corporation</td>\n",
       "      <td>In progress</td>\n",
       "      <td>Yes</td>\n",
       "      <td>NaN</td>\n",
       "    </tr>\n",
       "  </tbody>\n",
       "</table>\n",
       "</div>"
      ],
      "text/plain": [
       "  Complaint ID        Product   Sub-product                       Issue  \\\n",
       "0      1431865  Consumer loan  Vehicle loan  Managing the loan or lease   \n",
       "\n",
       "  Sub-issue State ZIP code Submitted via Date received Date sent to company  \\\n",
       "0       NaN    NJ    08736           Web    06/22/2015           06/22/2015   \n",
       "\n",
       "                               Company Company response Timely response?  \\\n",
       "0  Nissan Motor Acceptance Corporation      In progress              Yes   \n",
       "\n",
       "  Consumer disputed?  \n",
       "0                NaN  "
      ]
     },
     "execution_count": 116,
     "metadata": {},
     "output_type": "execute_result"
    }
   ],
   "source": [
    "consumer_df.head(1)"
   ]
  },
  {
   "cell_type": "code",
   "execution_count": 117,
   "metadata": {
    "collapsed": false
   },
   "outputs": [],
   "source": [
    "consumer_df_copy = consumer_df"
   ]
  },
  {
   "cell_type": "code",
   "execution_count": 118,
   "metadata": {
    "collapsed": false
   },
   "outputs": [],
   "source": [
    "# change dates to datetimes \n",
    "consumer_df_copy['Date received'] = pd.to_datetime(consumer_df_copy['Date received'])\n",
    "consumer_df_copy['Date sent to company'] = pd.to_datetime(consumer_df_copy['Date sent to company'])"
   ]
  },
  {
   "cell_type": "code",
   "execution_count": 120,
   "metadata": {
    "collapsed": false
   },
   "outputs": [
    {
     "data": {
      "text/html": [
       "<div>\n",
       "<table border=\"1\" class=\"dataframe\">\n",
       "  <thead>\n",
       "    <tr style=\"text-align: right;\">\n",
       "      <th></th>\n",
       "      <th>Complaint ID</th>\n",
       "      <th>Product</th>\n",
       "      <th>Sub-product</th>\n",
       "      <th>Issue</th>\n",
       "      <th>Sub-issue</th>\n",
       "      <th>State</th>\n",
       "      <th>ZIP code</th>\n",
       "      <th>Submitted via</th>\n",
       "      <th>Date received</th>\n",
       "      <th>Date sent to company</th>\n",
       "      <th>Company</th>\n",
       "      <th>Company response</th>\n",
       "      <th>Timely response?</th>\n",
       "      <th>Consumer disputed?</th>\n",
       "    </tr>\n",
       "  </thead>\n",
       "  <tbody>\n",
       "    <tr>\n",
       "      <th>0</th>\n",
       "      <td>1431865</td>\n",
       "      <td>Consumer loan</td>\n",
       "      <td>Vehicle loan</td>\n",
       "      <td>Managing the loan or lease</td>\n",
       "      <td>NaN</td>\n",
       "      <td>NJ</td>\n",
       "      <td>08736</td>\n",
       "      <td>Web</td>\n",
       "      <td>2015-06-22</td>\n",
       "      <td>2015-06-22</td>\n",
       "      <td>Nissan Motor Acceptance Corporation</td>\n",
       "      <td>In progress</td>\n",
       "      <td>Yes</td>\n",
       "      <td>NaN</td>\n",
       "    </tr>\n",
       "  </tbody>\n",
       "</table>\n",
       "</div>"
      ],
      "text/plain": [
       "  Complaint ID        Product   Sub-product                       Issue  \\\n",
       "0      1431865  Consumer loan  Vehicle loan  Managing the loan or lease   \n",
       "\n",
       "  Sub-issue State ZIP code Submitted via Date received Date sent to company  \\\n",
       "0       NaN    NJ    08736           Web    2015-06-22           2015-06-22   \n",
       "\n",
       "                               Company Company response Timely response?  \\\n",
       "0  Nissan Motor Acceptance Corporation      In progress              Yes   \n",
       "\n",
       "  Consumer disputed?  \n",
       "0                NaN  "
      ]
     },
     "execution_count": 120,
     "metadata": {},
     "output_type": "execute_result"
    }
   ],
   "source": [
    "consumer_df_copy.head(1)"
   ]
  },
  {
   "cell_type": "code",
   "execution_count": 121,
   "metadata": {
    "collapsed": false
   },
   "outputs": [
    {
     "data": {
      "text/plain": [
       "pandas.core.series.Series"
      ]
     },
     "execution_count": 121,
     "metadata": {},
     "output_type": "execute_result"
    }
   ],
   "source": [
    "type(consumer_df_copy['Date received'])"
   ]
  },
  {
   "cell_type": "code",
   "execution_count": 122,
   "metadata": {
    "collapsed": false
   },
   "outputs": [],
   "source": [
    "consumer_complaints_by_month = consumer_df_copy"
   ]
  },
  {
   "cell_type": "code",
   "execution_count": 123,
   "metadata": {
    "collapsed": false
   },
   "outputs": [],
   "source": [
    "# turn into the index\n",
    "# then do resample by \"M\"\n",
    "# OR OR OR\n",
    "# groupby   THEN do aggregate\n",
    "# Pandas groupby tutorial: http://pandas.pydata.org/pandas-docs/stable/groupby.html"
   ]
  },
  {
   "cell_type": "code",
   "execution_count": 124,
   "metadata": {
    "collapsed": false
   },
   "outputs": [
    {
     "data": {
      "text/plain": [
       "Complaint ID                    object\n",
       "Product                         object\n",
       "Sub-product                     object\n",
       "Issue                           object\n",
       "Sub-issue                       object\n",
       "State                           object\n",
       "ZIP code                        object\n",
       "Submitted via                   object\n",
       "Date received           datetime64[ns]\n",
       "Date sent to company    datetime64[ns]\n",
       "Company                         object\n",
       "Company response                object\n",
       "Timely response?                object\n",
       "Consumer disputed?              object\n",
       "dtype: object"
      ]
     },
     "execution_count": 124,
     "metadata": {},
     "output_type": "execute_result"
    }
   ],
   "source": [
    "consumer_complaints_by_month.dtypes"
   ]
  },
  {
   "cell_type": "code",
   "execution_count": 125,
   "metadata": {
    "collapsed": true
   },
   "outputs": [],
   "source": [
    "consumer_complaints_month_test = consumer_complaints_by_month"
   ]
  },
  {
   "cell_type": "code",
   "execution_count": 126,
   "metadata": {
    "collapsed": false
   },
   "outputs": [],
   "source": [
    "date_index = consumer_complaints_month_test.pop('Date received')"
   ]
  },
  {
   "cell_type": "code",
   "execution_count": 127,
   "metadata": {
    "collapsed": true
   },
   "outputs": [],
   "source": [
    "consumer_complaints_month_test.index = date_index"
   ]
  },
  {
   "cell_type": "code",
   "execution_count": 128,
   "metadata": {
    "collapsed": false
   },
   "outputs": [
    {
     "data": {
      "text/html": [
       "<div>\n",
       "<table border=\"1\" class=\"dataframe\">\n",
       "  <thead>\n",
       "    <tr style=\"text-align: right;\">\n",
       "      <th></th>\n",
       "      <th>Complaint ID</th>\n",
       "      <th>Product</th>\n",
       "      <th>Sub-product</th>\n",
       "      <th>Issue</th>\n",
       "      <th>Sub-issue</th>\n",
       "      <th>State</th>\n",
       "      <th>ZIP code</th>\n",
       "      <th>Submitted via</th>\n",
       "      <th>Date sent to company</th>\n",
       "      <th>Company</th>\n",
       "      <th>Company response</th>\n",
       "      <th>Timely response?</th>\n",
       "      <th>Consumer disputed?</th>\n",
       "    </tr>\n",
       "    <tr>\n",
       "      <th>Date received</th>\n",
       "      <th></th>\n",
       "      <th></th>\n",
       "      <th></th>\n",
       "      <th></th>\n",
       "      <th></th>\n",
       "      <th></th>\n",
       "      <th></th>\n",
       "      <th></th>\n",
       "      <th></th>\n",
       "      <th></th>\n",
       "      <th></th>\n",
       "      <th></th>\n",
       "      <th></th>\n",
       "    </tr>\n",
       "  </thead>\n",
       "  <tbody>\n",
       "    <tr>\n",
       "      <th>2015-06-22</th>\n",
       "      <td>1431865</td>\n",
       "      <td>Consumer loan</td>\n",
       "      <td>Vehicle loan</td>\n",
       "      <td>Managing the loan or lease</td>\n",
       "      <td>NaN</td>\n",
       "      <td>NJ</td>\n",
       "      <td>08736</td>\n",
       "      <td>Web</td>\n",
       "      <td>2015-06-22</td>\n",
       "      <td>Nissan Motor Acceptance Corporation</td>\n",
       "      <td>In progress</td>\n",
       "      <td>Yes</td>\n",
       "      <td>NaN</td>\n",
       "    </tr>\n",
       "  </tbody>\n",
       "</table>\n",
       "</div>"
      ],
      "text/plain": [
       "              Complaint ID        Product   Sub-product  \\\n",
       "Date received                                             \n",
       "2015-06-22         1431865  Consumer loan  Vehicle loan   \n",
       "\n",
       "                                    Issue Sub-issue State ZIP code  \\\n",
       "Date received                                                        \n",
       "2015-06-22     Managing the loan or lease       NaN    NJ    08736   \n",
       "\n",
       "              Submitted via Date sent to company  \\\n",
       "Date received                                      \n",
       "2015-06-22              Web           2015-06-22   \n",
       "\n",
       "                                           Company Company response  \\\n",
       "Date received                                                         \n",
       "2015-06-22     Nissan Motor Acceptance Corporation      In progress   \n",
       "\n",
       "              Timely response? Consumer disputed?  \n",
       "Date received                                      \n",
       "2015-06-22                 Yes                NaN  "
      ]
     },
     "execution_count": 128,
     "metadata": {},
     "output_type": "execute_result"
    }
   ],
   "source": [
    "consumer_complaints_month_test.head(1)"
   ]
  },
  {
   "cell_type": "code",
   "execution_count": 135,
   "metadata": {
    "collapsed": false
   },
   "outputs": [],
   "source": [
    "grouped_date_received = consumer_complaints_month_test.groupby(pd.TimeGrouper(\"M\"))"
   ]
  },
  {
   "cell_type": "code",
   "execution_count": 153,
   "metadata": {
    "collapsed": false
   },
   "outputs": [],
   "source": [
    "#grouped_date_received.head(2) # cool! shows you two records PER month"
   ]
  },
  {
   "cell_type": "code",
   "execution_count": 150,
   "metadata": {
    "collapsed": false
   },
   "outputs": [],
   "source": [
    "results_complaints_by_month = grouped_date_received.count()['Complaint ID']"
   ]
  },
  {
   "cell_type": "code",
   "execution_count": 156,
   "metadata": {
    "collapsed": false
   },
   "outputs": [],
   "source": [
    "grouped_by_product = consumer_complaints_month_test.groupby('Product')"
   ]
  },
  {
   "cell_type": "code",
   "execution_count": 158,
   "metadata": {
    "collapsed": false
   },
   "outputs": [
    {
     "data": {
      "text/html": [
       "<div>\n",
       "<table border=\"1\" class=\"dataframe\">\n",
       "  <thead>\n",
       "    <tr style=\"text-align: right;\">\n",
       "      <th></th>\n",
       "      <th>Complaint ID</th>\n",
       "      <th>Sub-product</th>\n",
       "      <th>Issue</th>\n",
       "      <th>Sub-issue</th>\n",
       "      <th>State</th>\n",
       "      <th>ZIP code</th>\n",
       "      <th>Submitted via</th>\n",
       "      <th>Date sent to company</th>\n",
       "      <th>Company</th>\n",
       "      <th>Company response</th>\n",
       "      <th>Timely response?</th>\n",
       "      <th>Consumer disputed?</th>\n",
       "    </tr>\n",
       "    <tr>\n",
       "      <th>Product</th>\n",
       "      <th></th>\n",
       "      <th></th>\n",
       "      <th></th>\n",
       "      <th></th>\n",
       "      <th></th>\n",
       "      <th></th>\n",
       "      <th></th>\n",
       "      <th></th>\n",
       "      <th></th>\n",
       "      <th></th>\n",
       "      <th></th>\n",
       "      <th></th>\n",
       "    </tr>\n",
       "  </thead>\n",
       "  <tbody>\n",
       "    <tr>\n",
       "      <th>Bank account or service</th>\n",
       "      <td>47166</td>\n",
       "      <td>47166</td>\n",
       "      <td>47162</td>\n",
       "      <td>0</td>\n",
       "      <td>46230</td>\n",
       "      <td>46305</td>\n",
       "      <td>47166</td>\n",
       "      <td>47166</td>\n",
       "      <td>47166</td>\n",
       "      <td>47166</td>\n",
       "      <td>47166</td>\n",
       "      <td>44730</td>\n",
       "    </tr>\n",
       "    <tr>\n",
       "      <th>Consumer loan</th>\n",
       "      <td>13771</td>\n",
       "      <td>13771</td>\n",
       "      <td>13769</td>\n",
       "      <td>0</td>\n",
       "      <td>13632</td>\n",
       "      <td>13609</td>\n",
       "      <td>13771</td>\n",
       "      <td>13771</td>\n",
       "      <td>13771</td>\n",
       "      <td>13771</td>\n",
       "      <td>13771</td>\n",
       "      <td>12666</td>\n",
       "    </tr>\n",
       "    <tr>\n",
       "      <th>Credit card</th>\n",
       "      <td>51103</td>\n",
       "      <td>0</td>\n",
       "      <td>51103</td>\n",
       "      <td>0</td>\n",
       "      <td>50548</td>\n",
       "      <td>50473</td>\n",
       "      <td>51103</td>\n",
       "      <td>51103</td>\n",
       "      <td>51103</td>\n",
       "      <td>51103</td>\n",
       "      <td>51103</td>\n",
       "      <td>48529</td>\n",
       "    </tr>\n",
       "    <tr>\n",
       "      <th>Credit reporting</th>\n",
       "      <td>60006</td>\n",
       "      <td>0</td>\n",
       "      <td>60006</td>\n",
       "      <td>60006</td>\n",
       "      <td>58475</td>\n",
       "      <td>59568</td>\n",
       "      <td>60006</td>\n",
       "      <td>60006</td>\n",
       "      <td>60006</td>\n",
       "      <td>60006</td>\n",
       "      <td>60006</td>\n",
       "      <td>52516</td>\n",
       "    </tr>\n",
       "    <tr>\n",
       "      <th>Debt collection</th>\n",
       "      <td>68907</td>\n",
       "      <td>53805</td>\n",
       "      <td>68907</td>\n",
       "      <td>68907</td>\n",
       "      <td>68065</td>\n",
       "      <td>68246</td>\n",
       "      <td>68907</td>\n",
       "      <td>68907</td>\n",
       "      <td>68907</td>\n",
       "      <td>68907</td>\n",
       "      <td>68907</td>\n",
       "      <td>61004</td>\n",
       "    </tr>\n",
       "    <tr>\n",
       "      <th>Money transfers</th>\n",
       "      <td>2383</td>\n",
       "      <td>2383</td>\n",
       "      <td>2383</td>\n",
       "      <td>0</td>\n",
       "      <td>2281</td>\n",
       "      <td>2323</td>\n",
       "      <td>2383</td>\n",
       "      <td>2383</td>\n",
       "      <td>2383</td>\n",
       "      <td>2383</td>\n",
       "      <td>2383</td>\n",
       "      <td>2110</td>\n",
       "    </tr>\n",
       "    <tr>\n",
       "      <th>Mortgage</th>\n",
       "      <td>150140</td>\n",
       "      <td>150140</td>\n",
       "      <td>150140</td>\n",
       "      <td>0</td>\n",
       "      <td>148819</td>\n",
       "      <td>148477</td>\n",
       "      <td>150140</td>\n",
       "      <td>150140</td>\n",
       "      <td>150140</td>\n",
       "      <td>150140</td>\n",
       "      <td>150140</td>\n",
       "      <td>141705</td>\n",
       "    </tr>\n",
       "    <tr>\n",
       "      <th>Other financial service</th>\n",
       "      <td>227</td>\n",
       "      <td>227</td>\n",
       "      <td>227</td>\n",
       "      <td>0</td>\n",
       "      <td>216</td>\n",
       "      <td>223</td>\n",
       "      <td>227</td>\n",
       "      <td>227</td>\n",
       "      <td>227</td>\n",
       "      <td>227</td>\n",
       "      <td>227</td>\n",
       "      <td>183</td>\n",
       "    </tr>\n",
       "    <tr>\n",
       "      <th>Payday loan</th>\n",
       "      <td>2655</td>\n",
       "      <td>0</td>\n",
       "      <td>2655</td>\n",
       "      <td>0</td>\n",
       "      <td>2590</td>\n",
       "      <td>2633</td>\n",
       "      <td>2655</td>\n",
       "      <td>2655</td>\n",
       "      <td>2655</td>\n",
       "      <td>2655</td>\n",
       "      <td>2655</td>\n",
       "      <td>2276</td>\n",
       "    </tr>\n",
       "    <tr>\n",
       "      <th>Prepaid card</th>\n",
       "      <td>784</td>\n",
       "      <td>784</td>\n",
       "      <td>784</td>\n",
       "      <td>0</td>\n",
       "      <td>771</td>\n",
       "      <td>774</td>\n",
       "      <td>784</td>\n",
       "      <td>784</td>\n",
       "      <td>784</td>\n",
       "      <td>784</td>\n",
       "      <td>784</td>\n",
       "      <td>644</td>\n",
       "    </tr>\n",
       "    <tr>\n",
       "      <th>Student loan</th>\n",
       "      <td>12258</td>\n",
       "      <td>12258</td>\n",
       "      <td>12258</td>\n",
       "      <td>0</td>\n",
       "      <td>12132</td>\n",
       "      <td>12152</td>\n",
       "      <td>12258</td>\n",
       "      <td>12258</td>\n",
       "      <td>12258</td>\n",
       "      <td>12258</td>\n",
       "      <td>12258</td>\n",
       "      <td>11478</td>\n",
       "    </tr>\n",
       "  </tbody>\n",
       "</table>\n",
       "</div>"
      ],
      "text/plain": [
       "                         Complaint ID  Sub-product   Issue  Sub-issue   State  \\\n",
       "Product                                                                         \n",
       "Bank account or service         47166        47166   47162          0   46230   \n",
       "Consumer loan                   13771        13771   13769          0   13632   \n",
       "Credit card                     51103            0   51103          0   50548   \n",
       "Credit reporting                60006            0   60006      60006   58475   \n",
       "Debt collection                 68907        53805   68907      68907   68065   \n",
       "Money transfers                  2383         2383    2383          0    2281   \n",
       "Mortgage                       150140       150140  150140          0  148819   \n",
       "Other financial service           227          227     227          0     216   \n",
       "Payday loan                      2655            0    2655          0    2590   \n",
       "Prepaid card                      784          784     784          0     771   \n",
       "Student loan                    12258        12258   12258          0   12132   \n",
       "\n",
       "                         ZIP code  Submitted via  Date sent to company  \\\n",
       "Product                                                                  \n",
       "Bank account or service     46305          47166                 47166   \n",
       "Consumer loan               13609          13771                 13771   \n",
       "Credit card                 50473          51103                 51103   \n",
       "Credit reporting            59568          60006                 60006   \n",
       "Debt collection             68246          68907                 68907   \n",
       "Money transfers              2323           2383                  2383   \n",
       "Mortgage                   148477         150140                150140   \n",
       "Other financial service       223            227                   227   \n",
       "Payday loan                  2633           2655                  2655   \n",
       "Prepaid card                  774            784                   784   \n",
       "Student loan                12152          12258                 12258   \n",
       "\n",
       "                         Company  Company response  Timely response?  \\\n",
       "Product                                                                \n",
       "Bank account or service    47166             47166             47166   \n",
       "Consumer loan              13771             13771             13771   \n",
       "Credit card                51103             51103             51103   \n",
       "Credit reporting           60006             60006             60006   \n",
       "Debt collection            68907             68907             68907   \n",
       "Money transfers             2383              2383              2383   \n",
       "Mortgage                  150140            150140            150140   \n",
       "Other financial service      227               227               227   \n",
       "Payday loan                 2655              2655              2655   \n",
       "Prepaid card                 784               784               784   \n",
       "Student loan               12258             12258             12258   \n",
       "\n",
       "                         Consumer disputed?  \n",
       "Product                                      \n",
       "Bank account or service               44730  \n",
       "Consumer loan                         12666  \n",
       "Credit card                           48529  \n",
       "Credit reporting                      52516  \n",
       "Debt collection                       61004  \n",
       "Money transfers                        2110  \n",
       "Mortgage                             141705  \n",
       "Other financial service                 183  \n",
       "Payday loan                            2276  \n",
       "Prepaid card                            644  \n",
       "Student loan                          11478  "
      ]
     },
     "execution_count": 158,
     "metadata": {},
     "output_type": "execute_result"
    }
   ],
   "source": [
    "grouped_by_product.count()"
   ]
  },
  {
   "cell_type": "code",
   "execution_count": 242,
   "metadata": {
    "collapsed": false
   },
   "outputs": [
    {
     "data": {
      "text/html": [
       "<div>\n",
       "<table border=\"1\" class=\"dataframe\">\n",
       "  <thead>\n",
       "    <tr style=\"text-align: right;\">\n",
       "      <th></th>\n",
       "      <th>Complaint ID</th>\n",
       "      <th>Product</th>\n",
       "      <th>Sub-product</th>\n",
       "      <th>Issue</th>\n",
       "      <th>Sub-issue</th>\n",
       "      <th>State</th>\n",
       "      <th>ZIP code</th>\n",
       "      <th>Submitted via</th>\n",
       "      <th>Date sent to company</th>\n",
       "      <th>Company</th>\n",
       "      <th>Company response</th>\n",
       "      <th>Timely response?</th>\n",
       "      <th>Consumer disputed?</th>\n",
       "    </tr>\n",
       "    <tr>\n",
       "      <th>Date received</th>\n",
       "      <th></th>\n",
       "      <th></th>\n",
       "      <th></th>\n",
       "      <th></th>\n",
       "      <th></th>\n",
       "      <th></th>\n",
       "      <th></th>\n",
       "      <th></th>\n",
       "      <th></th>\n",
       "      <th></th>\n",
       "      <th></th>\n",
       "      <th></th>\n",
       "      <th></th>\n",
       "    </tr>\n",
       "  </thead>\n",
       "  <tbody>\n",
       "    <tr>\n",
       "      <th>2015-06-22</th>\n",
       "      <td>1431865</td>\n",
       "      <td>Consumer loan</td>\n",
       "      <td>Vehicle loan</td>\n",
       "      <td>Managing the loan or lease</td>\n",
       "      <td>NaN</td>\n",
       "      <td>NJ</td>\n",
       "      <td>08736</td>\n",
       "      <td>Web</td>\n",
       "      <td>2015-06-22</td>\n",
       "      <td>Nissan Motor Acceptance Corporation</td>\n",
       "      <td>In progress</td>\n",
       "      <td>Yes</td>\n",
       "      <td>NaN</td>\n",
       "    </tr>\n",
       "  </tbody>\n",
       "</table>\n",
       "</div>"
      ],
      "text/plain": [
       "              Complaint ID        Product   Sub-product  \\\n",
       "Date received                                             \n",
       "2015-06-22         1431865  Consumer loan  Vehicle loan   \n",
       "\n",
       "                                    Issue Sub-issue State ZIP code  \\\n",
       "Date received                                                        \n",
       "2015-06-22     Managing the loan or lease       NaN    NJ    08736   \n",
       "\n",
       "              Submitted via Date sent to company  \\\n",
       "Date received                                      \n",
       "2015-06-22              Web           2015-06-22   \n",
       "\n",
       "                                           Company Company response  \\\n",
       "Date received                                                         \n",
       "2015-06-22     Nissan Motor Acceptance Corporation      In progress   \n",
       "\n",
       "              Timely response? Consumer disputed?  \n",
       "Date received                                      \n",
       "2015-06-22                 Yes                NaN  "
      ]
     },
     "execution_count": 242,
     "metadata": {},
     "output_type": "execute_result"
    }
   ],
   "source": [
    "consumer_complaints_month_test.head(1)"
   ]
  },
  {
   "cell_type": "code",
   "execution_count": 245,
   "metadata": {
    "collapsed": false
   },
   "outputs": [],
   "source": [
    "consumer_complaints_month_test['weekday'] = consumer_complaints_month_test['Date sent to company'].apply(lambda x: x.weekday())"
   ]
  },
  {
   "cell_type": "code",
   "execution_count": 248,
   "metadata": {
    "collapsed": false
   },
   "outputs": [
    {
     "data": {
      "text/plain": [
       "<pandas.core.groupby.DataFrameGroupBy object at 0x12b038898>"
      ]
     },
     "execution_count": 248,
     "metadata": {},
     "output_type": "execute_result"
    }
   ],
   "source": [
    "consumer_complaints_month_test.groupby('weekday')"
   ]
  },
  {
   "cell_type": "code",
   "execution_count": null,
   "metadata": {
    "collapsed": true
   },
   "outputs": [],
   "source": []
  },
  {
   "cell_type": "markdown",
   "metadata": {},
   "source": [
    "#Objectives:"
   ]
  },
  {
   "cell_type": "markdown",
   "metadata": {},
   "source": [
    "###1. Number of complaints by month (leave off the current month)"
   ]
  },
  {
   "cell_type": "markdown",
   "metadata": {},
   "source": [
    "1. Cleaned data, converting dates to datetimes & indexing by Date received\n",
    "2. Grouped by month of date received\n",
    "3. Ran a count then displayed only the date received and complaints column\n",
    "\n",
    "``` results_complaints_by_month = grouped_date_received.count()['Complaint ID']  ```"
   ]
  },
  {
   "cell_type": "code",
   "execution_count": 152,
   "metadata": {
    "collapsed": false
   },
   "outputs": [
    {
     "data": {
      "text/plain": [
       "Date received\n",
       "2011-12-31     2556\n",
       "2012-01-31     3266\n",
       "2012-02-29     3507\n",
       "2012-03-31     6247\n",
       "2012-04-30     5725\n",
       "2012-05-31     7627\n",
       "2012-06-30     7859\n",
       "2012-07-31     6787\n",
       "2012-08-31     6880\n",
       "2012-09-30     5500\n",
       "2012-10-31     6764\n",
       "2012-11-30     6129\n",
       "2012-12-31     6263\n",
       "2013-01-31     9824\n",
       "2013-02-28     8330\n",
       "2013-03-31     8708\n",
       "2013-04-30     8649\n",
       "2013-05-31     8158\n",
       "2013-06-30     8035\n",
       "2013-07-31     9295\n",
       "2013-08-31     9571\n",
       "2013-09-30     9655\n",
       "2013-10-31     9234\n",
       "2013-11-30     9309\n",
       "2013-12-31     9499\n",
       "2014-01-31    12657\n",
       "2014-02-28    13054\n",
       "2014-03-31    13962\n",
       "2014-04-30    13844\n",
       "2014-05-31    12151\n",
       "2014-06-30    12555\n",
       "2014-07-31    13436\n",
       "2014-08-31    13151\n",
       "2014-09-30    12510\n",
       "2014-10-31    12880\n",
       "2014-11-30    11276\n",
       "2014-12-31    11711\n",
       "2015-01-31    12631\n",
       "2015-02-28    12711\n",
       "2015-03-31    14576\n",
       "2015-04-30    13752\n",
       "2015-05-31    13498\n",
       "2015-06-30     5668\n",
       "Freq: M, Name: Complaint ID, dtype: int64"
      ]
     },
     "execution_count": 152,
     "metadata": {},
     "output_type": "execute_result"
    }
   ],
   "source": [
    "results_complaints_by_month "
   ]
  },
  {
   "cell_type": "code",
   "execution_count": 162,
   "metadata": {
    "collapsed": false
   },
   "outputs": [
    {
     "data": {
      "text/plain": [
       "<matplotlib.axes._subplots.AxesSubplot at 0x12a3194a8>"
      ]
     },
     "execution_count": 162,
     "metadata": {},
     "output_type": "execute_result"
    },
    {
     "data": {
      "image/png": "[encoded data removed]",
      "text/plain": [
       "<matplotlib.figure.Figure at 0x12a322048>"
      ]
     },
     "metadata": {},
     "output_type": "display_data"
    }
   ],
   "source": [
    "results_complaints_by_month.plot()"
   ]
  },
  {
   "cell_type": "markdown",
   "metadata": {},
   "source": [
    "###2. Number of complaints by product"
   ]
  },
  {
   "cell_type": "code",
   "execution_count": 159,
   "metadata": {
    "collapsed": false
   },
   "outputs": [
    {
     "data": {
      "text/plain": [
       "Product\n",
       "Bank account or service     47166\n",
       "Consumer loan               13771\n",
       "Credit card                 51103\n",
       "Credit reporting            60006\n",
       "Debt collection             68907\n",
       "Money transfers              2383\n",
       "Mortgage                   150140\n",
       "Other financial service       227\n",
       "Payday loan                  2655\n",
       "Prepaid card                  784\n",
       "Student loan                12258\n",
       "Name: Complaint ID, dtype: int64"
      ]
     },
     "execution_count": 159,
     "metadata": {},
     "output_type": "execute_result"
    }
   ],
   "source": [
    "grouped_by_product.count()['Complaint ID']"
   ]
  },
  {
   "cell_type": "code",
   "execution_count": 161,
   "metadata": {
    "collapsed": false
   },
   "outputs": [
    {
     "data": {
      "text/plain": [
       "<matplotlib.axes._subplots.AxesSubplot at 0x12a19a2b0>"
      ]
     },
     "execution_count": 161,
     "metadata": {},
     "output_type": "execute_result"
    },
    {
     "data": {
      "image/png": "[encoded data removed]",
      "text/plain": [
       "<matplotlib.figure.Figure at 0x137c6a630>"
      ]
     },
     "metadata": {},
     "output_type": "display_data"
    }
   ],
   "source": [
    "grouped_by_product.count()['Complaint ID'].plot()"
   ]
  },
  {
   "cell_type": "code",
   "execution_count": 160,
   "metadata": {
    "collapsed": false
   },
   "outputs": [
    {
     "data": {
      "text/plain": [
       "<matplotlib.axes._subplots.AxesSubplot at 0x137c6a6a0>"
      ]
     },
     "execution_count": 160,
     "metadata": {},
     "output_type": "execute_result"
    },
    {
     "data": {
      "image/png": "[encoded data removed]",
      "text/plain": [
       "<matplotlib.figure.Figure at 0x137c56ba8>"
      ]
     },
     "metadata": {},
     "output_type": "display_data"
    }
   ],
   "source": [
    "grouped_by_product.count()['Complaint ID'].plot()"
   ]
  },
  {
   "cell_type": "markdown",
   "metadata": {},
   "source": [
    "###3. Number of complaints by company (top 10 companies only)"
   ]
  },
  {
   "cell_type": "code",
   "execution_count": 202,
   "metadata": {
    "collapsed": false
   },
   "outputs": [],
   "source": [
    "grouped_by_company = consumer_complaints_month_test.groupby('Company')"
   ]
  },
  {
   "cell_type": "code",
   "execution_count": 203,
   "metadata": {
    "collapsed": true
   },
   "outputs": [],
   "source": [
    "#results_top_company = grouped_by_company.count().sort('Complaint ID', ascending = False)"
   ]
  },
  {
   "cell_type": "code",
   "execution_count": 227,
   "metadata": {
    "collapsed": false
   },
   "outputs": [],
   "source": [
    "top_ten_companies = grouped_by_company.count().sort('Complaint ID', ascending = False)[:10]"
   ]
  },
  {
   "cell_type": "code",
   "execution_count": 228,
   "metadata": {
    "collapsed": false
   },
   "outputs": [
    {
     "data": {
      "text/plain": [
       "Company\n",
       "Bank of America        47753\n",
       "Wells Fargo            33781\n",
       "JPMorgan Chase         26745\n",
       "Experian               21112\n",
       "Equifax                20592\n",
       "Citibank               20024\n",
       "Ocwen                  17331\n",
       "TransUnion             16010\n",
       "Capital One            12378\n",
       "Nationstar Mortgage    10081\n",
       "Name: Complaint ID, dtype: int64"
      ]
     },
     "execution_count": 228,
     "metadata": {},
     "output_type": "execute_result"
    }
   ],
   "source": [
    "top_ten_companies['Complaint ID']"
   ]
  },
  {
   "cell_type": "code",
   "execution_count": 229,
   "metadata": {
    "collapsed": false
   },
   "outputs": [
    {
     "data": {
      "text/plain": [
       "<matplotlib.axes._subplots.AxesSubplot at 0x12a80e4e0>"
      ]
     },
     "execution_count": 229,
     "metadata": {},
     "output_type": "execute_result"
    },
    {
     "data": {
      "image/png": "[encoded data removed]",
      "text/plain": [
       "<matplotlib.figure.Figure at 0x12b1f3b38>"
      ]
     },
     "metadata": {},
     "output_type": "display_data"
    }
   ],
   "source": [
    "top_ten_companies['Complaint ID'].plot()"
   ]
  },
  {
   "cell_type": "markdown",
   "metadata": {},
   "source": [
    "###4. Number of complaints by company response"
   ]
  },
  {
   "cell_type": "code",
   "execution_count": 233,
   "metadata": {
    "collapsed": false
   },
   "outputs": [],
   "source": [
    "complaints_by_response = consumer_complaints_month_test.groupby('Company response')"
   ]
  },
  {
   "cell_type": "code",
   "execution_count": 240,
   "metadata": {
    "collapsed": false
   },
   "outputs": [
    {
     "data": {
      "text/plain": [
       "Company response\n",
       "Closed                               9909\n",
       "Closed with explanation            289933\n",
       "Closed with monetary relief         28910\n",
       "Closed with non-monetary relief     52257\n",
       "Closed with relief                   5305\n",
       "Closed without relief               17909\n",
       "In progress                          3153\n",
       "Untimely response                    2024\n",
       "Name: Complaint ID, dtype: int64"
      ]
     },
     "execution_count": 240,
     "metadata": {},
     "output_type": "execute_result"
    }
   ],
   "source": [
    "complaints_by_response.count()['Complaint ID']"
   ]
  },
  {
   "cell_type": "code",
   "execution_count": 241,
   "metadata": {
    "collapsed": false
   },
   "outputs": [
    {
     "data": {
      "text/plain": [
       "<matplotlib.axes._subplots.AxesSubplot at 0x13077be80>"
      ]
     },
     "execution_count": 241,
     "metadata": {},
     "output_type": "execute_result"
    },
    {
     "data": {
      "image/png": "[encoded data removed]",
      "text/plain": [
       "<matplotlib.figure.Figure at 0x13078dac8>"
      ]
     },
     "metadata": {},
     "output_type": "display_data"
    }
   ],
   "source": [
    "complaints_by_response.count()['Complaint ID'].plot()"
   ]
  },
  {
   "cell_type": "markdown",
   "metadata": {},
   "source": [
    "###5. μ(Mean) number of complaints by day of week"
   ]
  },
  {
   "cell_type": "code",
   "execution_count": 249,
   "metadata": {
    "collapsed": true
   },
   "outputs": [],
   "source": [
    "consumer_complaints_month_test['weekday'] = consumer_complaints_month_test['Date sent to company'].apply(lambda x: x.weekday())"
   ]
  },
  {
   "cell_type": "code",
   "execution_count": 250,
   "metadata": {
    "collapsed": true
   },
   "outputs": [],
   "source": [
    "complaints_by_weekday = consumer_complaints_month_test.groupby('weekday')"
   ]
  },
  {
   "cell_type": "code",
   "execution_count": 264,
   "metadata": {
    "collapsed": false
   },
   "outputs": [
    {
     "ename": "SyntaxError",
     "evalue": "invalid character in identifier (<ipython-input-264-6421eb513e6f>, line 1)",
     "output_type": "error",
     "traceback": [
      "\u001b[0;36m  File \u001b[0;32m\"<ipython-input-264-6421eb513e6f>\"\u001b[0;36m, line \u001b[0;32m1\u001b[0m\n\u001b[0;31m    consumer_complaints_month_test['count'].resample(‘D’, how=’mean’)\u001b[0m\n\u001b[0m                                                       ^\u001b[0m\n\u001b[0;31mSyntaxError\u001b[0m\u001b[0;31m:\u001b[0m invalid character in identifier\n"
     ]
    }
   ],
   "source": [
    "consumer_complaints_month_test['week'].resample(‘D’, how=’mean’)"
   ]
  },
  {
   "cell_type": "code",
   "execution_count": null,
   "metadata": {
    "collapsed": true
   },
   "outputs": [],
   "source": []
  }
 ],
 "metadata": {
  "kernelspec": {
   "display_name": "Python 3",
   "language": "python",
   "name": "python3"
  },
  "language_info": {
   "codemirror_mode": {
    "name": "ipython",
    "version": 3
   },
   "file_extension": ".py",
   "mimetype": "text/x-python",
   "name": "python",
   "nbconvert_exporter": "python",
   "pygments_lexer": "ipython3",
   "version": "3.4.3"
  }
 },
 "nbformat": 4,
 "nbformat_minor": 0
}
